{
 "cells": [
  {
   "cell_type": "markdown",
   "metadata": {},
   "source": [
    "# TikTok Virality Prediction Project\n",
    "\n",
    "- **Juan López Segura**\n",
    "- **Ignacio Urretavizcaya Tato**\n",
    "\n",
    "This Jupyter Notebook details a project focused on separately analyzing audio, text, and video data extracted from 1,000 trending TikTok videos of 2021. The aim is to utilize these multimodal data inputs either by integrating them into multimodal models or by stacking models to predict the virality of TikTok videos.\n",
    "\n",
    "## The Work\n",
    "\n",
    "### Data Collection\n",
    "\n",
    "The data for this project is organized into separate folders based on the type of data:\n",
    "\n",
    "- Audio data: `data/inputs/audio/`\n",
    "- Text data: `data/inputs/text/`\n",
    "- Video data: `data/inputs/videos/`\n",
    "\n",
    "### Data Description\n",
    "\n",
    "Each type of data includes elements specific to the medium:\n",
    "- **Audio:** Includes the audio tracks from the videos.\n",
    "- **Text:** Consists of hashtags, video text descriptions, and transcriptions of the audio.\n",
    "- **Video:** Contains the video files themselves. For the analysis we will take 10 frames from each video.\n",
    "\n",
    "## Purpose\n",
    "\n",
    "The purpose of this analysis is to predict the virality of TikTok videos based on a defined metric of virality, which includes views, comments, likes, etc. By analyzing these metrics and their correlations, we can develop a predictive model.\n",
    "\n",
    "### Virality Metric Definition\n",
    "\n",
    "#### Data Loading and Initial Processing\n"
   ]
  }
 ],
 "metadata": {
  "language_info": {
   "name": "python"
  }
 },
 "nbformat": 4,
 "nbformat_minor": 2
}
