{
 "cells": [
  {
   "cell_type": "code",
   "execution_count": 12,
   "metadata": {},
   "outputs": [],
   "source": [
    "from selenium import webdriver\n",
    "from selenium.webdriver.common.by import By"
   ]
  },
  {
   "cell_type": "code",
   "execution_count": 30,
   "metadata": {},
   "outputs": [
    {
     "ename": "NoSuchElementException",
     "evalue": "Message: no such element: Unable to locate element: {\"method\":\"css selector\",\"selector\":\"div > div.button-wrapper\"}\n  (Session info: chrome=122.0.6261.129); For documentation on this error, please visit: https://www.selenium.dev/documentation/webdriver/troubleshooting/errors#no-such-element-exception\nStacktrace:\n\tGetHandleVerifier [0x00007FF7A4CBAD02+56930]\n\t(No symbol) [0x00007FF7A4C2F602]\n\t(No symbol) [0x00007FF7A4AE42E5]\n\t(No symbol) [0x00007FF7A4B298ED]\n\t(No symbol) [0x00007FF7A4B29A2C]\n\t(No symbol) [0x00007FF7A4B6A967]\n\t(No symbol) [0x00007FF7A4B4BCDF]\n\t(No symbol) [0x00007FF7A4B681E2]\n\t(No symbol) [0x00007FF7A4B4BA43]\n\t(No symbol) [0x00007FF7A4B1D438]\n\t(No symbol) [0x00007FF7A4B1E4D1]\n\tGetHandleVerifier [0x00007FF7A5036F8D+3711213]\n\tGetHandleVerifier [0x00007FF7A50904CD+4077101]\n\tGetHandleVerifier [0x00007FF7A508865F+4044735]\n\tGetHandleVerifier [0x00007FF7A4D59736+706710]\n\t(No symbol) [0x00007FF7A4C3B8DF]\n\t(No symbol) [0x00007FF7A4C36AC4]\n\t(No symbol) [0x00007FF7A4C36C1C]\n\t(No symbol) [0x00007FF7A4C268D4]\n\tBaseThreadInitThunk [0x00007FF8F7E7257D+29]\n\tRtlUserThreadStart [0x00007FF8F8FAAA58+40]\n",
     "output_type": "error",
     "traceback": [
      "\u001b[1;31m---------------------------------------------------------------------------\u001b[0m",
      "\u001b[1;31mNoSuchElementException\u001b[0m                    Traceback (most recent call last)",
      "Cell \u001b[1;32mIn[30], line 15\u001b[0m\n\u001b[0;32m     11\u001b[0m driver\u001b[38;5;241m.\u001b[39mimplicitly_wait(\u001b[38;5;241m3\u001b[39m)\n\u001b[0;32m     13\u001b[0m \u001b[38;5;28;01mtry\u001b[39;00m:\n\u001b[0;32m     14\u001b[0m     \u001b[38;5;66;03m# Encontrar el elemento utilizando el selector copiado\u001b[39;00m\n\u001b[1;32m---> 15\u001b[0m     elemento \u001b[38;5;241m=\u001b[39m \u001b[43mdriver\u001b[49m\u001b[38;5;241;43m.\u001b[39;49m\u001b[43mfind_element\u001b[49m\u001b[43m(\u001b[49m\u001b[43mBy\u001b[49m\u001b[38;5;241;43m.\u001b[39;49m\u001b[43mCSS_SELECTOR\u001b[49m\u001b[43m,\u001b[49m\u001b[43m \u001b[49m\u001b[38;5;124;43m\"\u001b[39;49m\u001b[38;5;124;43mdiv > div.button-wrapper\u001b[39;49m\u001b[38;5;124;43m\"\u001b[39;49m\u001b[43m)\u001b[49m\n\u001b[0;32m     17\u001b[0m     \u001b[38;5;66;03m# Hacer clic en el elemento\u001b[39;00m\n\u001b[0;32m     18\u001b[0m     elemento\u001b[38;5;241m.\u001b[39mclick()\n",
      "File \u001b[1;32mc:\\Users\\juanl\\Documents\\Master\\2o cuatri\\ADNE\\Trabajo\\Tik Tok\\tiktok\\Lib\\site-packages\\selenium\\webdriver\\remote\\webdriver.py:741\u001b[0m, in \u001b[0;36mWebDriver.find_element\u001b[1;34m(self, by, value)\u001b[0m\n\u001b[0;32m    738\u001b[0m     by \u001b[38;5;241m=\u001b[39m By\u001b[38;5;241m.\u001b[39mCSS_SELECTOR\n\u001b[0;32m    739\u001b[0m     value \u001b[38;5;241m=\u001b[39m \u001b[38;5;124mf\u001b[39m\u001b[38;5;124m'\u001b[39m\u001b[38;5;124m[name=\u001b[39m\u001b[38;5;124m\"\u001b[39m\u001b[38;5;132;01m{\u001b[39;00mvalue\u001b[38;5;132;01m}\u001b[39;00m\u001b[38;5;124m\"\u001b[39m\u001b[38;5;124m]\u001b[39m\u001b[38;5;124m'\u001b[39m\n\u001b[1;32m--> 741\u001b[0m \u001b[38;5;28;01mreturn\u001b[39;00m \u001b[38;5;28;43mself\u001b[39;49m\u001b[38;5;241;43m.\u001b[39;49m\u001b[43mexecute\u001b[49m\u001b[43m(\u001b[49m\u001b[43mCommand\u001b[49m\u001b[38;5;241;43m.\u001b[39;49m\u001b[43mFIND_ELEMENT\u001b[49m\u001b[43m,\u001b[49m\u001b[43m \u001b[49m\u001b[43m{\u001b[49m\u001b[38;5;124;43m\"\u001b[39;49m\u001b[38;5;124;43musing\u001b[39;49m\u001b[38;5;124;43m\"\u001b[39;49m\u001b[43m:\u001b[49m\u001b[43m \u001b[49m\u001b[43mby\u001b[49m\u001b[43m,\u001b[49m\u001b[43m \u001b[49m\u001b[38;5;124;43m\"\u001b[39;49m\u001b[38;5;124;43mvalue\u001b[39;49m\u001b[38;5;124;43m\"\u001b[39;49m\u001b[43m:\u001b[49m\u001b[43m \u001b[49m\u001b[43mvalue\u001b[49m\u001b[43m}\u001b[49m\u001b[43m)\u001b[49m[\u001b[38;5;124m\"\u001b[39m\u001b[38;5;124mvalue\u001b[39m\u001b[38;5;124m\"\u001b[39m]\n",
      "File \u001b[1;32mc:\\Users\\juanl\\Documents\\Master\\2o cuatri\\ADNE\\Trabajo\\Tik Tok\\tiktok\\Lib\\site-packages\\selenium\\webdriver\\remote\\webdriver.py:347\u001b[0m, in \u001b[0;36mWebDriver.execute\u001b[1;34m(self, driver_command, params)\u001b[0m\n\u001b[0;32m    345\u001b[0m response \u001b[38;5;241m=\u001b[39m \u001b[38;5;28mself\u001b[39m\u001b[38;5;241m.\u001b[39mcommand_executor\u001b[38;5;241m.\u001b[39mexecute(driver_command, params)\n\u001b[0;32m    346\u001b[0m \u001b[38;5;28;01mif\u001b[39;00m response:\n\u001b[1;32m--> 347\u001b[0m     \u001b[38;5;28;43mself\u001b[39;49m\u001b[38;5;241;43m.\u001b[39;49m\u001b[43merror_handler\u001b[49m\u001b[38;5;241;43m.\u001b[39;49m\u001b[43mcheck_response\u001b[49m\u001b[43m(\u001b[49m\u001b[43mresponse\u001b[49m\u001b[43m)\u001b[49m\n\u001b[0;32m    348\u001b[0m     response[\u001b[38;5;124m\"\u001b[39m\u001b[38;5;124mvalue\u001b[39m\u001b[38;5;124m\"\u001b[39m] \u001b[38;5;241m=\u001b[39m \u001b[38;5;28mself\u001b[39m\u001b[38;5;241m.\u001b[39m_unwrap_value(response\u001b[38;5;241m.\u001b[39mget(\u001b[38;5;124m\"\u001b[39m\u001b[38;5;124mvalue\u001b[39m\u001b[38;5;124m\"\u001b[39m, \u001b[38;5;28;01mNone\u001b[39;00m))\n\u001b[0;32m    349\u001b[0m     \u001b[38;5;28;01mreturn\u001b[39;00m response\n",
      "File \u001b[1;32mc:\\Users\\juanl\\Documents\\Master\\2o cuatri\\ADNE\\Trabajo\\Tik Tok\\tiktok\\Lib\\site-packages\\selenium\\webdriver\\remote\\errorhandler.py:229\u001b[0m, in \u001b[0;36mErrorHandler.check_response\u001b[1;34m(self, response)\u001b[0m\n\u001b[0;32m    227\u001b[0m         alert_text \u001b[38;5;241m=\u001b[39m value[\u001b[38;5;124m\"\u001b[39m\u001b[38;5;124malert\u001b[39m\u001b[38;5;124m\"\u001b[39m]\u001b[38;5;241m.\u001b[39mget(\u001b[38;5;124m\"\u001b[39m\u001b[38;5;124mtext\u001b[39m\u001b[38;5;124m\"\u001b[39m)\n\u001b[0;32m    228\u001b[0m     \u001b[38;5;28;01mraise\u001b[39;00m exception_class(message, screen, stacktrace, alert_text)  \u001b[38;5;66;03m# type: ignore[call-arg]  # mypy is not smart enough here\u001b[39;00m\n\u001b[1;32m--> 229\u001b[0m \u001b[38;5;28;01mraise\u001b[39;00m exception_class(message, screen, stacktrace)\n",
      "\u001b[1;31mNoSuchElementException\u001b[0m: Message: no such element: Unable to locate element: {\"method\":\"css selector\",\"selector\":\"div > div.button-wrapper\"}\n  (Session info: chrome=122.0.6261.129); For documentation on this error, please visit: https://www.selenium.dev/documentation/webdriver/troubleshooting/errors#no-such-element-exception\nStacktrace:\n\tGetHandleVerifier [0x00007FF7A4CBAD02+56930]\n\t(No symbol) [0x00007FF7A4C2F602]\n\t(No symbol) [0x00007FF7A4AE42E5]\n\t(No symbol) [0x00007FF7A4B298ED]\n\t(No symbol) [0x00007FF7A4B29A2C]\n\t(No symbol) [0x00007FF7A4B6A967]\n\t(No symbol) [0x00007FF7A4B4BCDF]\n\t(No symbol) [0x00007FF7A4B681E2]\n\t(No symbol) [0x00007FF7A4B4BA43]\n\t(No symbol) [0x00007FF7A4B1D438]\n\t(No symbol) [0x00007FF7A4B1E4D1]\n\tGetHandleVerifier [0x00007FF7A5036F8D+3711213]\n\tGetHandleVerifier [0x00007FF7A50904CD+4077101]\n\tGetHandleVerifier [0x00007FF7A508865F+4044735]\n\tGetHandleVerifier [0x00007FF7A4D59736+706710]\n\t(No symbol) [0x00007FF7A4C3B8DF]\n\t(No symbol) [0x00007FF7A4C36AC4]\n\t(No symbol) [0x00007FF7A4C36C1C]\n\t(No symbol) [0x00007FF7A4C268D4]\n\tBaseThreadInitThunk [0x00007FF8F7E7257D+29]\n\tRtlUserThreadStart [0x00007FF8F8FAAA58+40]\n"
     ]
    }
   ],
   "source": [
    "# Configurar el navegador\n",
    "options = webdriver.ChromeOptions()\n",
    "options.add_argument('--ignore-certificate-errors')\n",
    "options.add_argument('--ignore-ssl-errors')\n",
    "driver = webdriver.Chrome(options=options)\n",
    "\n",
    "# Abrir la página web\n",
    "driver.get(\"https://www.tiktok.com/es/\")\n",
    "\n",
    "# Esperar a que la página se cargue completamente (puedes ajustar este tiempo según sea necesario)\n",
    "driver.implicitly_wait(3)\n",
    "\n",
    "try:\n",
    "    # Encontrar el elemento utilizando el selector copiado\n",
    "    elemento = driver.find_element(By.CSS_SELECTOR, \"div > div.button-wrapper\")\n",
    "\n",
    "    # Hacer clic en el elemento\n",
    "    elemento.click()\n",
    "\n",
    "finally:\n",
    "    # Cerrar el navegador\n",
    "    driver.quit()\n"
   ]
  },
  {
   "cell_type": "code",
   "execution_count": 29,
   "metadata": {},
   "outputs": [
    {
     "data": {
      "text/plain": [
       "[<selenium.webdriver.remote.webelement.WebElement (session=\"a7975e6ac1b3d7f153f465ac0c00e3f8\", element=\"f.FC17E4FE548EFE4E3E6D0CB2B76307C3.d.D09EE3DE28F4CABC2794D10C4ED8BDFC.e.1030\")>,\n",
       " <selenium.webdriver.remote.webelement.WebElement (session=\"a7975e6ac1b3d7f153f465ac0c00e3f8\", element=\"f.FC17E4FE548EFE4E3E6D0CB2B76307C3.d.D09EE3DE28F4CABC2794D10C4ED8BDFC.e.1031\")>,\n",
       " <selenium.webdriver.remote.webelement.WebElement (session=\"a7975e6ac1b3d7f153f465ac0c00e3f8\", element=\"f.FC17E4FE548EFE4E3E6D0CB2B76307C3.d.D09EE3DE28F4CABC2794D10C4ED8BDFC.e.1032\")>,\n",
       " <selenium.webdriver.remote.webelement.WebElement (session=\"a7975e6ac1b3d7f153f465ac0c00e3f8\", element=\"f.FC17E4FE548EFE4E3E6D0CB2B76307C3.d.D09EE3DE28F4CABC2794D10C4ED8BDFC.e.1033\")>,\n",
       " <selenium.webdriver.remote.webelement.WebElement (session=\"a7975e6ac1b3d7f153f465ac0c00e3f8\", element=\"f.FC17E4FE548EFE4E3E6D0CB2B76307C3.d.D09EE3DE28F4CABC2794D10C4ED8BDFC.e.1034\")>,\n",
       " <selenium.webdriver.remote.webelement.WebElement (session=\"a7975e6ac1b3d7f153f465ac0c00e3f8\", element=\"f.FC17E4FE548EFE4E3E6D0CB2B76307C3.d.D09EE3DE28F4CABC2794D10C4ED8BDFC.e.1035\")>,\n",
       " <selenium.webdriver.remote.webelement.WebElement (session=\"a7975e6ac1b3d7f153f465ac0c00e3f8\", element=\"f.FC17E4FE548EFE4E3E6D0CB2B76307C3.d.D09EE3DE28F4CABC2794D10C4ED8BDFC.e.1036\")>,\n",
       " <selenium.webdriver.remote.webelement.WebElement (session=\"a7975e6ac1b3d7f153f465ac0c00e3f8\", element=\"f.FC17E4FE548EFE4E3E6D0CB2B76307C3.d.D09EE3DE28F4CABC2794D10C4ED8BDFC.e.1037\")>,\n",
       " <selenium.webdriver.remote.webelement.WebElement (session=\"a7975e6ac1b3d7f153f465ac0c00e3f8\", element=\"f.FC17E4FE548EFE4E3E6D0CB2B76307C3.d.D09EE3DE28F4CABC2794D10C4ED8BDFC.e.1038\")>,\n",
       " <selenium.webdriver.remote.webelement.WebElement (session=\"a7975e6ac1b3d7f153f465ac0c00e3f8\", element=\"f.FC17E4FE548EFE4E3E6D0CB2B76307C3.d.D09EE3DE28F4CABC2794D10C4ED8BDFC.e.1039\")>,\n",
       " <selenium.webdriver.remote.webelement.WebElement (session=\"a7975e6ac1b3d7f153f465ac0c00e3f8\", element=\"f.FC17E4FE548EFE4E3E6D0CB2B76307C3.d.D09EE3DE28F4CABC2794D10C4ED8BDFC.e.1040\")>,\n",
       " <selenium.webdriver.remote.webelement.WebElement (session=\"a7975e6ac1b3d7f153f465ac0c00e3f8\", element=\"f.FC17E4FE548EFE4E3E6D0CB2B76307C3.d.D09EE3DE28F4CABC2794D10C4ED8BDFC.e.1041\")>,\n",
       " <selenium.webdriver.remote.webelement.WebElement (session=\"a7975e6ac1b3d7f153f465ac0c00e3f8\", element=\"f.FC17E4FE548EFE4E3E6D0CB2B76307C3.d.D09EE3DE28F4CABC2794D10C4ED8BDFC.e.1042\")>,\n",
       " <selenium.webdriver.remote.webelement.WebElement (session=\"a7975e6ac1b3d7f153f465ac0c00e3f8\", element=\"f.FC17E4FE548EFE4E3E6D0CB2B76307C3.d.D09EE3DE28F4CABC2794D10C4ED8BDFC.e.1043\")>,\n",
       " <selenium.webdriver.remote.webelement.WebElement (session=\"a7975e6ac1b3d7f153f465ac0c00e3f8\", element=\"f.FC17E4FE548EFE4E3E6D0CB2B76307C3.d.D09EE3DE28F4CABC2794D10C4ED8BDFC.e.1044\")>,\n",
       " <selenium.webdriver.remote.webelement.WebElement (session=\"a7975e6ac1b3d7f153f465ac0c00e3f8\", element=\"f.FC17E4FE548EFE4E3E6D0CB2B76307C3.d.D09EE3DE28F4CABC2794D10C4ED8BDFC.e.1045\")>,\n",
       " <selenium.webdriver.remote.webelement.WebElement (session=\"a7975e6ac1b3d7f153f465ac0c00e3f8\", element=\"f.FC17E4FE548EFE4E3E6D0CB2B76307C3.d.D09EE3DE28F4CABC2794D10C4ED8BDFC.e.1046\")>,\n",
       " <selenium.webdriver.remote.webelement.WebElement (session=\"a7975e6ac1b3d7f153f465ac0c00e3f8\", element=\"f.FC17E4FE548EFE4E3E6D0CB2B76307C3.d.D09EE3DE28F4CABC2794D10C4ED8BDFC.e.1047\")>]"
      ]
     },
     "execution_count": 29,
     "metadata": {},
     "output_type": "execute_result"
    }
   ],
   "source": [
    "driver.find_elements(By.XPATH, \"//*[starts-with(@class, 'a')]\")"
   ]
  },
  {
   "cell_type": "code",
   "execution_count": 7,
   "metadata": {},
   "outputs": [
    {
     "name": "stdout",
     "output_type": "stream",
     "text": [
      "No se pudo encontrar o hacer clic en el botón de rechazar cookies.\n"
     ]
    }
   ],
   "source": [
    "from selenium import webdriver\n",
    "from selenium.webdriver.common.by import By\n",
    "from selenium.webdriver.support.ui import WebDriverWait\n",
    "from selenium.webdriver.support import expected_conditions as EC\n",
    "\n",
    "# Configurar el navegador\n",
    "options = webdriver.ChromeOptions()\n",
    "options.add_argument('--ignore-certificate-errors')\n",
    "options.add_argument('--ignore-ssl-errors')\n",
    "driver = webdriver.Chrome(options=options)\n",
    "\n",
    "# Navegar a la página de inicio de TikTok\n",
    "driver.get('https://www.tiktok.com/')\n",
    "\n",
    "# Esperar a que el botón de rechazar las cookies esté disponible\n",
    "try:\n",
    "    rechazar_cookies_btn = WebDriverWait(driver, 10).until(\n",
    "        EC.element_to_be_clickable((By.XPATH, '//button[contains(text(),\"Rechazar\")]'))\n",
    "    )\n",
    "    # Hacer clic en el botón de rechazar las cookies\n",
    "    rechazar_cookies_btn.click()\n",
    "    print(\"Botón de rechazar cookies clicado con éxito.\")\n",
    "except:\n",
    "    print(\"No se pudo encontrar o hacer clic en el botón de rechazar cookies.\")\n",
    "\n",
    "# Cerrar el navegador\n",
    "driver.quit()"
   ]
  },
  {
   "cell_type": "code",
   "execution_count": null,
   "metadata": {},
   "outputs": [],
   "source": [
    "driver.quit()"
   ]
  }
 ],
 "metadata": {
  "kernelspec": {
   "display_name": "tiktok",
   "language": "python",
   "name": "python3"
  },
  "language_info": {
   "codemirror_mode": {
    "name": "ipython",
    "version": 3
   },
   "file_extension": ".py",
   "mimetype": "text/x-python",
   "name": "python",
   "nbconvert_exporter": "python",
   "pygments_lexer": "ipython3",
   "version": "3.11.5"
  }
 },
 "nbformat": 4,
 "nbformat_minor": 2
}
