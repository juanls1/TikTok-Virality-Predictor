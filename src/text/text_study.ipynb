{
 "cells": [
  {
   "cell_type": "markdown",
   "metadata": {},
   "source": [
    "# Text Study"
   ]
  },
  {
   "cell_type": "markdown",
   "metadata": {},
   "source": [
    "After the initial audio study and the necessary text extraction, the next logical step will be the stduy of this type of unstructured data.\n",
    "\n",
    "We will take a look at both the audio transcripts and the captions from the videos, in order to extract as much information as possible to predict the virality of a video."
   ]
  },
  {
   "cell_type": "markdown",
   "metadata": {},
   "source": [
    "## First libraries and variables import"
   ]
  },
  {
   "cell_type": "code",
   "execution_count": 38,
   "metadata": {},
   "outputs": [],
   "source": [
    "import sys\n",
    "from pathlib import Path\n",
    "import os\n",
    "\n",
    "# Get the absolute path of the folder containing the module\n",
    "root_dir = Path.cwd().resolve().parent.parent\n",
    "\n",
    "# Add the folder path to sys.path\n",
    "sys.path.append(str(root_dir))"
   ]
  },
  {
   "cell_type": "code",
   "execution_count": 39,
   "metadata": {},
   "outputs": [
    {
     "ename": "ImportError",
     "evalue": "cannot import name 'clean_text' from 'text_utils' (c:\\Users\\juanl\\Documents\\Master\\2o cuatri\\ADNE\\Trabajo\\Tik Tok\\src\\text\\text_utils.py)",
     "output_type": "error",
     "traceback": [
      "\u001b[1;31m---------------------------------------------------------------------------\u001b[0m",
      "\u001b[1;31mImportError\u001b[0m                               Traceback (most recent call last)",
      "Cell \u001b[1;32mIn[39], line 1\u001b[0m\n\u001b[1;32m----> 1\u001b[0m \u001b[38;5;28;01mfrom\u001b[39;00m \u001b[38;5;21;01mtext_utils\u001b[39;00m \u001b[38;5;28;01mimport\u001b[39;00m load_json, load_transcriptions, clean_text, plot_freq_dist\n\u001b[0;32m      2\u001b[0m \u001b[38;5;28;01mfrom\u001b[39;00m \u001b[38;5;21;01mconfig\u001b[39;00m\u001b[38;5;21;01m.\u001b[39;00m\u001b[38;5;21;01mvariables\u001b[39;00m \u001b[38;5;28;01mimport\u001b[39;00m text_path, json_file\n",
      "\u001b[1;31mImportError\u001b[0m: cannot import name 'clean_text' from 'text_utils' (c:\\Users\\juanl\\Documents\\Master\\2o cuatri\\ADNE\\Trabajo\\Tik Tok\\src\\text\\text_utils.py)"
     ]
    }
   ],
   "source": [
    "from text_utils import load_json, load_transcriptions, clean_text, plot_freq_dist\n",
    "from config.variables import text_path, json_file"
   ]
  },
  {
   "cell_type": "code",
   "execution_count": 3,
   "metadata": {},
   "outputs": [],
   "source": [
    "text_folder = os.path.join(root_dir, text_path)\n",
    "json_path = os.path.join(root_dir, json_file)"
   ]
  },
  {
   "cell_type": "markdown",
   "metadata": {},
   "source": [
    "## Data recopilation and ordering"
   ]
  },
  {
   "cell_type": "code",
   "execution_count": 5,
   "metadata": {},
   "outputs": [],
   "source": [
    "# Load the transcriptions of the videos\n",
    "transcriptions = load_transcriptions(text_folder)\n",
    "\n",
    "# Load the information from the JSON file\n",
    "video_info = load_json(json_path)"
   ]
  },
  {
   "cell_type": "code",
   "execution_count": 36,
   "metadata": {},
   "outputs": [
    {
     "name": "stdout",
     "output_type": "stream",
     "text": [
      "Transcription: \n",
      "Text: Confidence went 📈\n",
      "Hashtags: []\n"
     ]
    }
   ],
   "source": [
    "# Create an object to store the combined information\n",
    "video_data = {}\n",
    "\n",
    "# Combine the information from transcriptions and the JSON file\n",
    "for video_id, info in video_info.items():\n",
    "    if video_id in transcriptions:\n",
    "        general = info.get('general', '')  # Get the general information of the video or an empty string if not present\n",
    "        text = general.get('text', '')  # Get the text of the video or an empty string if not present\n",
    "        hashtags = general.get('hashtags', [])  # Get the hashtags of the video or an empty list if not present\n",
    "        video_data[video_id] = {'transcription': transcriptions[video_id], 'text': text, 'hashtags': hashtags}\n",
    "\n",
    "# Example of accessing the combined information for the first video\n",
    "first_video = list(video_data.keys())[0]\n",
    "print(\"Transcription:\", video_data[first_video]['transcription'])\n",
    "print(\"Text:\", video_data[first_video]['text'])\n",
    "print(\"Hashtags:\", video_data[first_video]['hashtags'])"
   ]
  },
  {
   "cell_type": "code",
   "execution_count": null,
   "metadata": {},
   "outputs": [
    {
     "name": "stdout",
     "output_type": "stream",
     "text": [
      "Number of non-empty transcriptions: 261\n",
      "Number of video_data elements with non-empty transcriptions: 261\n",
      "Number of video_data elements with non-empty text: 962\n",
      "Number of video_data elements with non-empty hashtags: 853\n"
     ]
    }
   ],
   "source": [
    "# Counting the elements that are not empty strings in transcriptions\n",
    "transcription_count = sum(1 for trans in transcriptions.values() if trans != '')\n",
    "print(\"Number of non-empty transcriptions:\", transcription_count)\n",
    "\n",
    "# Counting the number of elements in video_data where the transcription is not ''\n",
    "video_data_count_non_empty = sum(1 for video_id, data in video_data.items() if data['transcription'] != '')\n",
    "print(\"Number of video_data elements with non-empty transcriptions:\", video_data_count_non_empty)\n",
    "\n",
    "# Counting the elements that are not empty strings in the video text\n",
    "texts_count = sum(1 for video_id, data in video_data.items() if data['text'] != '')\n",
    "print(\"Number of video_data elements with non-empty text:\", texts_count)\n",
    "\n",
    "# Counting the elements that are not empty lists in hashtags\n",
    "hashtags_count = sum(1 for video_id, data in video_data.items() if data['hashtags'] != [])\n",
    "print(\"Number of video_data elements with non-empty hashtags:\", hashtags_count)\n"
   ]
  },
  {
   "cell_type": "markdown",
   "metadata": {},
   "source": [
    "As we can see, we have a transcription for 1 out of 4 videos aprox. Nevertheless, we have text and hashtags for almost all of the videos, so a text strudy could be deployed."
   ]
  },
  {
   "cell_type": "markdown",
   "metadata": {},
   "source": [
    "## Text Pre-Processing"
   ]
  },
  {
   "cell_type": "markdown",
   "metadata": {},
   "source": [
    "### Text cleaning"
   ]
  },
  {
   "cell_type": "code",
   "execution_count": null,
   "metadata": {},
   "outputs": [],
   "source": [
    "# text cleaning of transcriptions and text\n",
    "\n",
    "for video_id, info in video_info.items():\n",
    "    if 'transcription' in info:\n",
    "        video_info[video_id]['clean_transcription'] = clean_text(info['transcription'])\n",
    "    if 'text' in info:\n",
    "        video_info[video_id]['clean_text'] = clean_text(info['text'])"
   ]
  }
 ],
 "metadata": {
  "kernelspec": {
   "display_name": "ADNE",
   "language": "python",
   "name": "python3"
  },
  "language_info": {
   "codemirror_mode": {
    "name": "ipython",
    "version": 3
   },
   "file_extension": ".py",
   "mimetype": "text/x-python",
   "name": "python",
   "nbconvert_exporter": "python",
   "pygments_lexer": "ipython3",
   "version": "3.11.7"
  }
 },
 "nbformat": 4,
 "nbformat_minor": 2
}
